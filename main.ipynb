{
 "cells": [
  {
   "cell_type": "code",
   "execution_count": null,
   "id": "4dc4eac4",
   "metadata": {},
   "outputs": [],
   "source": [
    "import torch\n",
    "import clip\n",
    "from PIL import Image\n",
    "import faiss\n",
    "import numpy as np\n",
    "import os\n"
   ]
  },
  {
   "cell_type": "code",
   "execution_count": null,
   "id": "bdf2210f",
   "metadata": {},
   "outputs": [
    {
     "name": "stdout",
     "output_type": "stream",
     "text": [
      "device cpu\n"
     ]
    }
   ],
   "source": [
    "# Load CLIP\n",
    "device = \"cuda\" if torch.cuda.is_available() else \"cpu\"\n",
    "model, preprocess = clip.load(\"ViT-B/32\", device=device)\n",
    "print(\"device\" ,device)"
   ]
  },
  {
   "cell_type": "code",
   "execution_count": null,
   "id": "5baf4e47",
   "metadata": {},
   "outputs": [],
   "source": [
    "# Encode dataset images\n",
    "embeddings = []\n",
    "ids = []\n",
    "\n",
    "dataset_path = \"dataset/\"\n",
    "for id_article in os.listdir(dataset_path):\n",
    "    folder = os.path.join(dataset_path, id_article)\n",
    "    if os.path.isdir(folder):\n",
    "        for file in os.listdir(folder):\n",
    "            image = preprocess(Image.open(os.path.join(folder, file))).unsqueeze(0).to(device)\n",
    "            with torch.no_grad():\n",
    "                emb = model.encode_image(image).cpu().numpy()\n",
    "            embeddings.append(emb)\n",
    "            ids.append(id_article)\n",
    "\n",
    "embeddings = np.vstack(embeddings).astype(\"float32\")\n"
   ]
  },
  {
   "cell_type": "code",
   "execution_count": null,
   "id": "7273505f",
   "metadata": {},
   "outputs": [],
   "source": [
    "# Build FAISS index\n",
    "index = faiss.IndexFlatL2(embeddings.shape[1])\n",
    "index.add(embeddings)\n"
   ]
  },
  {
   "cell_type": "code",
   "execution_count": null,
   "id": "adffa01f",
   "metadata": {},
   "outputs": [
    {
     "name": "stdout",
     "output_type": "stream",
     "text": [
      "Top 3 most similar UNIQUE articles:\n",
      "==================================================\n",
      "1. Article ID: R124\n",
      "   Similarity Score: -53.9524\n",
      "   Distance: 53.9524\n",
      "\n",
      "2. Article ID: R025\n",
      "   Similarity Score: -57.0158\n",
      "   Distance: 57.0158\n",
      "\n",
      "3. Article ID: R011\n",
      "   Similarity Score: -57.0158\n",
      "   Distance: 57.0158\n",
      "\n"
     ]
    }
   ],
   "source": [
    "# Query with new image - Get top 3 unique most similar articles\n",
    "query_img = preprocess(Image.open(\"test/image.jpg\")).unsqueeze(0).to(device)\n",
    "with torch.no_grad():\n",
    "    q_emb = model.encode_image(query_img).cpu().numpy()\n",
    "\n",
    "# Search for more results to ensure we get unique article IDs\n",
    "search_k = min(50, len(ids))  # Search more results\n",
    "D, I = index.search(q_emb, search_k)\n",
    "\n",
    "# Get unique article IDs with their best scores\n",
    "unique_results = {}\n",
    "for i in range(search_k):\n",
    "    article_id = ids[I[0][i]]\n",
    "    distance = D[0][i]\n",
    "    \n",
    "    # Keep only the best (lowest distance) for each article ID\n",
    "    if article_id not in unique_results or distance < unique_results[article_id]['distance']:\n",
    "        unique_results[article_id] = {\n",
    "            'distance': distance,\n",
    "            'index': i\n",
    "        }\n",
    "\n",
    "# Sort by distance (lower is better) and take top 3 unique results\n",
    "sorted_results = sorted(unique_results.items(), key=lambda x: x[1]['distance'])[:3]\n",
    "\n",
    "print(\"Top 3 most similar UNIQUE articles:\")\n",
    "print(\"=\" * 50)\n",
    "for i, (article_id, result_info) in enumerate(sorted_results):\n",
    "    distance = result_info['distance']\n",
    "    # Convert L2 distance to similarity score (lower distance = higher similarity)\n",
    "    # Using negative distance as similarity score (higher is better)\n",
    "    similarity_score = -distance\n",
    "    print(f\"{i+1}. Article ID: {article_id}\")\n",
    "    print(f\"   Similarity Score: {similarity_score:.4f}\")\n",
    "    print(f\"   Distance: {distance:.4f}\")\n",
    "    print()\n"
   ]
  }
 ],
 "metadata": {
  "kernelspec": {
   "display_name": "Python 3",
   "language": "python",
   "name": "python3"
  },
  "language_info": {
   "codemirror_mode": {
    "name": "ipython",
    "version": 3
   },
   "file_extension": ".py",
   "mimetype": "text/x-python",
   "name": "python",
   "nbconvert_exporter": "python",
   "pygments_lexer": "ipython3",
   "version": "3.12.11"
  }
 },
 "nbformat": 4,
 "nbformat_minor": 5
}
