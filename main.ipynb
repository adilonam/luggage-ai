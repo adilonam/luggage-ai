{
 "cells": [
  {
   "cell_type": "code",
   "execution_count": 3,
   "id": "4dc4eac4",
   "metadata": {},
   "outputs": [],
   "source": [
    "import torch\n",
    "import clip\n",
    "from PIL import Image\n",
    "import faiss\n",
    "import numpy as np\n",
    "import os\n"
   ]
  },
  {
   "cell_type": "code",
   "execution_count": 4,
   "id": "bdf2210f",
   "metadata": {},
   "outputs": [
    {
     "name": "stderr",
     "output_type": "stream",
     "text": [
      "100%|███████████████████████████████████████| 338M/338M [00:14<00:00, 23.8MiB/s]\n"
     ]
    },
    {
     "name": "stdout",
     "output_type": "stream",
     "text": [
      "device cpu\n"
     ]
    }
   ],
   "source": [
    "# Load CLIP\n",
    "device = \"cuda\" if torch.cuda.is_available() else \"cpu\"\n",
    "model, preprocess = clip.load(\"ViT-B/32\", device=device)\n",
    "print(\"device\" ,device)"
   ]
  },
  {
   "cell_type": "code",
   "execution_count": 6,
   "id": "5baf4e47",
   "metadata": {},
   "outputs": [],
   "source": [
    "# Encode dataset images\n",
    "embeddings = []\n",
    "ids = []\n",
    "\n",
    "dataset_path = \"dataset/\"\n",
    "for id_article in os.listdir(dataset_path):\n",
    "    folder = os.path.join(dataset_path, id_article)\n",
    "    if os.path.isdir(folder):\n",
    "        for file in os.listdir(folder):\n",
    "            image = preprocess(Image.open(os.path.join(folder, file))).unsqueeze(0).to(device)\n",
    "            with torch.no_grad():\n",
    "                emb = model.encode_image(image).cpu().numpy()\n",
    "            embeddings.append(emb)\n",
    "            ids.append(id_article)\n",
    "\n",
    "embeddings = np.vstack(embeddings).astype(\"float32\")\n"
   ]
  },
  {
   "cell_type": "code",
   "execution_count": 7,
   "id": "7273505f",
   "metadata": {},
   "outputs": [],
   "source": [
    "# Build FAISS index\n",
    "index = faiss.IndexFlatL2(embeddings.shape[1])\n",
    "index.add(embeddings)\n"
   ]
  },
  {
   "cell_type": "code",
   "execution_count": 10,
   "id": "adffa01f",
   "metadata": {},
   "outputs": [
    {
     "name": "stdout",
     "output_type": "stream",
     "text": [
      "Top 3 most similar articles:\n",
      "========================================\n",
      "1. Article ID: R118\n",
      "   Similarity Score: -33.2936\n",
      "   Distance: 33.2936\n",
      "\n",
      "2. Article ID: R018\n",
      "   Similarity Score: -35.5547\n",
      "   Distance: 35.5547\n",
      "\n",
      "3. Article ID: R025\n",
      "   Similarity Score: -35.8966\n",
      "   Distance: 35.8966\n",
      "\n"
     ]
    }
   ],
   "source": [
    "# Query with new image - Get top 3 most similar\n",
    "query_img = preprocess(Image.open(\"test.jpeg\")).unsqueeze(0).to(device)\n",
    "with torch.no_grad():\n",
    "    q_emb = model.encode_image(query_img).cpu().numpy()\n",
    "\n",
    "# Search for top 3 most similar images\n",
    "D, I = index.search(q_emb, 3)\n",
    "\n",
    "print(\"Top 3 most similar articles:\")\n",
    "print(\"=\" * 40)\n",
    "for i in range(3):\n",
    "    article_id = ids[I[0][i]]\n",
    "    distance = D[0][i]\n",
    "    # Convert L2 distance to similarity score (lower distance = higher similarity)\n",
    "    # Using negative distance as similarity score (higher is better)\n",
    "    similarity_score = -distance\n",
    "    print(f\"{i+1}. Article ID: {article_id}\")\n",
    "    print(f\"   Similarity Score: {similarity_score:.4f}\")\n",
    "    print(f\"   Distance: {distance:.4f}\")\n",
    "    print()\n"
   ]
  }
 ],
 "metadata": {
  "kernelspec": {
   "display_name": "Python 3",
   "language": "python",
   "name": "python3"
  },
  "language_info": {
   "codemirror_mode": {
    "name": "ipython",
    "version": 3
   },
   "file_extension": ".py",
   "mimetype": "text/x-python",
   "name": "python",
   "nbconvert_exporter": "python",
   "pygments_lexer": "ipython3",
   "version": "3.12.11"
  }
 },
 "nbformat": 4,
 "nbformat_minor": 5
}
